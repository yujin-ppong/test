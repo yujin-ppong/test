{
 "cells": [
  {
   "cell_type": "markdown",
   "metadata": {},
   "source": [
    "# Optical Flow Estimation"
   ]
  },
  {
   "cell_type": "markdown",
   "metadata": {},
   "source": [
    "이미지 Sequence가 주어졌을 때 한 프레임에서 등장하는 물체가 바로 다음 프레임에서 어떻게 이동했는지를 예상해볼 수 있다.\n",
    "\n",
    "이렇게 각 Point의 이동속도를 예측한 것이 Optical Flow Estimation이다.\n",
    "Optical Flow Estimation을 소개하고 몇 가지 방법을 논의해본다."
   ]
  },
  {
   "cell_type": "markdown",
   "metadata": {},
   "source": [
    "![](Optical_Flow_Ex.png)\n",
    "\n",
    "Optical flow example [1]"
   ]
  },
  {
   "cell_type": "markdown",
   "metadata": {},
   "source": [
    "## Assumption [2]\n",
    "\n",
    "Optical Flow를 예상하기 위한 단서로 다음과 같은 가정을 제시한다.\n",
    "\n",
    "- Constant Intensity\n",
    "   > $I(x_{t+1}, y_{t+1}, t+1) = I(x_t, y_t, t)$\n",
    "- Smoothness\n",
    "   > motion field는 기준 픽셀 $(x, y)$에 대해 smooth하다. \n",
    "\n",
    "![](Assumptions.png)"
   ]
  },
  {
   "cell_type": "markdown",
   "metadata": {},
   "source": [
    "$r(t) = (x_t, y_t)$가 시간 $t$에서의 관찰하고자 하는 물체 위치를 나타낼 때, 실제 motion field는 $\\nabla r = \\left(\\frac{dx}{dt}, \\frac{dy}{dt} \\right) =: u$로 표현할 수 있다. 이 때 위의 두 가정은 예를 들면 다음과 같은 식으로 나타낼 수 있다.\n",
    "\n",
    "- Constant Intensity\n",
    "    > $\\frac{dI}{dt} = 0$, i.e. $u_1 I_x + u_2 I_y + I_t = 0$\n",
    "- Smoothness\n",
    "    > e.g. constant motion: constant $u$ on certain neighborhood"
   ]
  },
  {
   "cell_type": "markdown",
   "metadata": {},
   "source": [
    "## Method 1: Area-based Regression\n",
    "\n",
    "가장 간단한 모델로는 위의 예시를 사용한 Area-based Regression이 있다.\n",
    "\n",
    "$I_x$, $I_y$, $I_t$는 주어진 정보로 근사값을 구할 수 있기 때문에 Constant Intensity 부분의 식은 $u$에 대한 linear equation으로 나타난다. 두 번째 가정을 이용하면 가까운 점에서 또 다른 linear equation을 구할 수 있고 해는 다음과 같이 정해진다.\n",
    "\n",
    "\\begin{aligned}\n",
    "u_1 I^1_x + u_2 I^1_y + I^1_t = 0\\\\\n",
    "u_1 I^2_x + u_2 I^2_y + I^2_t = 0\n",
    "\\end{aligned}\n",
    "\n",
    "$$ u = - M^{-1} \\begin{bmatrix}I^1_t \\\\ I^2_t\\end{bmatrix} \\quad \\text{, where } M = \\begin{bmatrix}I^1_x & I^1_y \\\\ I^2_x & I^2_y\\end{bmatrix} $$"
   ]
  },
  {
   "cell_type": "markdown",
   "metadata": {},
   "source": [
    "## Method 2: AR, (Weighted) Least Square Error\n",
    "\n",
    "위에서 특정 neighborhood에서는 이동 속도 $u$가 완전히 변하지 않는다고 가정했지만 사실 이는 꽤 강한 가정이라고 할 수 있다. 또한 $I_x$, $I_y$, 그리고 특히 $I_t$는 근사값이므로 정확히 $u_1 I_x + u_2 I_y + I_t=0$를 목적으로 하는 것 보다 $0$에 근사시키는 것이 의미있을 수 있다. 따라서 두 번째 방법으로는 특정 neighborhood $N$ 내에서 다음과 같은 Least Square Error를 얻는 것을 목적으로 한다.\n",
    "$$E(u) = \\sum_{x,y \\in N} \\left[ u_1 I_x + u_2 I_y + I_t \\right]^2$$\n",
    "더 일반적으로는 원하는 픽셀 중앙 부분에 더 가중치를 두는 weight function $g(x,y)$를 사용할 수도 있다.\n",
    "$$E(u) = \\sum_{x,y \\in N} g(x,y)\\left[ u_1 I_x + u_2 I_y + I_t \\right]^2$$\n",
    "\n",
    "$E$를 최소화시키기 위해 $\\nabla E = 0$을 만족하는 $u$를 찾을 수 있는데, 다음과 같은 linear system으로 나타나기 때문이다.\n",
    "\\begin{aligned}\n",
    "\\frac{\\partial E}{\\partial u_1} = \\sum g \\left[ u_1 I_x + u_2 I_y + I_t \\right] \\cdot I_x = 0 \\\\\n",
    "\\frac{\\partial E}{\\partial u_2} = \\sum g \\left[ u_1 I_x + u_2 I_y + I_t \\right] \\cdot I_y = 0\n",
    "\\end{aligned}\n",
    "$$\\therefore u = - M^{-1}b \\quad \\text{, where } b= \\sum g I_t \\begin{bmatrix} I_x \\\\ I_y \\end{bmatrix} \\text{, } M= \\sum g \\begin{bmatrix} I_x \\\\ I_y \\end{bmatrix} \\begin{bmatrix} I_x & I_y \\end{bmatrix}$$"
   ]
  },
  {
   "cell_type": "markdown",
   "metadata": {},
   "source": [
    "## Method 3: Iterative Estimation\n",
    "\n",
    "AR의 문제점으로는 Neighborhood의 크기가 너무 작거나 클 때 발생하는 Aperture Problem이 있다. 너무 작으면 정보가 모자라서 움직임을 알 수 없고 너무 크면 noise가 커져서 움직임의 정확도가 떨어진다. Gaussian Pyramid와 같은 Scaling 기법을 쓸 수 있지만 또 한편으로는 반복적으로 움직임을 계산하는 방법을 쓰면 이 문제를 보완할 수 있다.\n",
    "\n",
    "u=(u_1, u_2)를 displacement로 보고 Constant Intensity부분을 다음과 같이 정의해보자.\n",
    "$$I(x, y, t+1) = I(x-u_1, y-u_2, t)$$\n",
    "First order Taylor expansion을 이용하면 다음과 같이 근사시킬 수 있다.\n",
    "$$I(x-u_1, y-u_2, t) \\approx I(x, y, t) -u_1 I_x -u_2 I_y $$\n",
    "즉, $u$는 $u_1 I_x + u_2 I_y = I(x, y, t) - I(x-u_1, y-u_2, t)$를 만족한다."
   ]
  },
  {
   "cell_type": "markdown",
   "metadata": {},
   "source": [
    "## Method 4: IE, Lucas-Kanade Algorithm [4]\n",
    "\n",
    "First order Taylor expansion을 이용하면 다음과 같은 근사가 가능하다.\n",
    "$$ I(x+u_1, y+u_2, t+1) \\approx I(x, y, t) + u_1 I_x + u_2 I_y + I_t $$\n",
    "\n",
    "실제로 프레임 간의 시간 차가 너무 큰 경우, 또는 $u$의 크기가 큰 경우에 근사값 $I_t$의 정확도가 떨어질 수 있다. 오히려 $I_t$를 근사시켜서 $u_1 I_x + u_2 I_y + I_t$의 식을 다루기보다는 $I(x+u_1, y+u_2, t+1) - I(x, y, t)$의 의미로 이해하는 것이 더욱 설득력을 가진다.\n",
    "\n",
    "이 경우 목표는 다음 $E$를 최소화시키는 displacement $u$를 구하는 것이다.\n",
    "$$E(u) = \\sum \\left[ I(x+u_1, y+u_2, t+1) - I(x, y, t) \\right]^2$$\n",
    "\n",
    "displacement를 일반화시켜서 $W(\\vec{x}, u)$와 같은 함수로 나타낼 수 있다. $u$는 parameter이고 displacement같은 경우 $W(x, u) = x+u$라고 생각하면 된다.\n",
    "Lucas-Kanade 알고리즘에서는 다음 목표함수를 최소화시키는 parameter $u$를 Gauss-Newton 방법으로 구한다.\n",
    "$$E(u) = \\sum \\left[ I(W(x, u), t+1) - I(x, t) \\right]^2$$\n",
    "\n",
    "Gauss-Newton방법에서는 다음과 같이 Taylor expansion을 이용한다.\n",
    "$$E(u+\\Delta) = E(u) + \\nabla E(u)^T \\Delta + \\frac{1}{2} \\Delta^T H(u) \\Delta + O(||\\Delta||^3)$$\n",
    "그러면 $\\nabla E = 0$의 식은 다음과 같은 $\\Delta$를 알려준다.\n",
    "$$\\Delta = -H^{-1}\\nabla E(u)$$\n",
    "또한 $E=||f||^2_2=\\sum f_i^2$의 식으로 나타날 경우 다음과 같이 Hessian matrix를 근사시킨다.\n",
    "$$H_{ij} = 2\\sum_l \\left[ \\frac{\\partial f_l}{\\partial u_i}\\frac{\\partial f_l}{\\partial u_j} + f_l \\frac{\\partial^2 f_l}{\\partial u_j\\partial u_i}\\right] \\approx 2\\sum_l \\frac{\\partial f_l}{\\partial u_i}\\frac{\\partial f_l}{\\partial u_j} \\quad \\text{, thus } H \\approx 2 {Jf}^T Jf$$\n",
    "즉, 다음과 같은 근사가 가능하다.\n",
    "$$\\Delta \\approx -({Jf}^T Jf)^{-1} \\sum \\left[ I(x, t) - I(W(x, u), t+1)  \\right] \\nabla (I(W))$$"
   ]
  },
  {
   "cell_type": "markdown",
   "metadata": {},
   "source": [
    "## Method 5: Motion Estimation based on Polynomial Expansion [3]\n",
    "\n",
    "이번 모델에서는 Intensity $I(x,y,t)$를 $x$, $y$에 대한 locally quadratic polynomial로 가정해서 displacement를 구한다. Local polynomial로의 근사는 minimum weighted least square error를 사용할 수 있다.\n",
    "\n",
    "\\begin{aligned}\n",
    "f_1(x) = x^T A_1 x + b_1^T x + c_1\\\\\n",
    "f_2(x) = x^T A_2 x + b_2^T x + c_2\n",
    "\\end{aligned}\n",
    "현재 프레임의 intensity를 $f_1(x, y)$, 다음 프레임의 intensity를 $f_2(x,y)$로 두자. 그러면 $\\vec{x}=(x,y)$에서 displacement가 $d=(d_1,d_2)$일 때 Constant Intensity 조건은 다음과 같은 식으로 표현된다.\n",
    "\\begin{aligned}\n",
    "f_2(x) &= f_1(x-d)\\\\\n",
    "&= x^T A_1 x + (b_1 -2A_1 d)^T x + d^T A_1 d -b_1^T d + c_1\\\\\n",
    "&= x^T A_2 x + b_2^T x + c_2\n",
    "\\end{aligned}\n",
    "따라서 다음과 같은 결과를 얻을 수 있다.\n",
    "\\begin{aligned}\n",
    "A_2 &= A_1\\\\\n",
    "b_2 &= b_1 - 2A_1d\\\\\n",
    "c_2 &= d^TA_1d - b_1^T d + c_1\n",
    "\\end{aligned}\n",
    "즉 displacement $d$를 바로 구할 수가 있다.\n",
    "$$d = -\\frac{1}{2} A_1^{-1}(b_2 - b_1)$$\n",
    "\n",
    "한편으로 Intensity의 local polynomial approximation로의 근사에 있어서 잡음을 잡아주기 위해 실제로는 $A$를 다음과 같이 고쳐서 사용한다.\n",
    "$$A = \\frac{1}{2} \\left( A_1 + A_2\\right)$$"
   ]
  },
  {
   "cell_type": "markdown",
   "metadata": {},
   "source": [
    "### AR\n",
    "\n",
    "한 점에서 $A(x)d(x) = \\Delta b(x)$를 푸는 대신 (편의를 위해 $\\Delta b = -\\frac{1}{2} (b_2 - b_1)$으로 적는다.) 작은 neighborhood 안에서 d는 일정하다고 가정한 뒤 그 영역에서의 다음과 같은 (w-)Least Square Error를 구한다.\n",
    "$$E(d) = \\sum_{\\Delta x \\in N} w(\\Delta x) \\left|\\left| A(x+\\Delta x) d(x) - \\Delta b(x + \\Delta x) \\right|\\right|^2 $$\n",
    "최적화를 위해 $d$에 대해 $\\nabla E = 0$을 풀면 다음과 같다.\n",
    "$$d(x) = \\left( \\sum w A^T A \\right)^{-1} \\sum wA^T \\Delta b$$"
   ]
  },
  {
   "cell_type": "markdown",
   "metadata": {},
   "source": [
    "### Incorporating A Priori Knowledge\n",
    "\n",
    "Local assumption의 문제점으로, 만약 displacement가 너무 클 경우에는 위의 방법으로 정확한 $d$를 구하기가 어려울 수 있다. 해결책으로는 Multi-Scale estimation 등의 방법을 쓸 수 있는데 이렇게 기존에 알려진 Displace estimation을 활용하면 더 효과적으로 근사가 가능하다.\n",
    "\n",
    "현재 알려진 displacement를 $\\tilde d$라고 하자. 그리고 $x \\rightarrow x+\\tilde d \\rightarrow x+\\tilde d + d$의 displacement로 $\\tilde d$를 보정할 $d$를 구하는 것이 목적이다. 이 때 $A$는 다음과 같이 두는 것이 자연스럽고 ($\\tilde x = x + \\tilde d$)\n",
    "$$A(x) = \\frac{1}{2} \\left( A_1(x) + A_2(\\tilde x) \\right)$$\n",
    "$b_2 = b_1 - 2A_1d$ 대신 $b_2 = b_1 - 2A_1(\\tilde d + d)$를 이용해서 $\\Delta b$는 다음과 같이 두고 $A d =\\Delta b$를 푼다.\n",
    "$$\\Delta b = -\\frac{1}{2} \\left( b_2 (\\tilde x) - b_1(x) \\right) + A(x) \\tilde d(x)$$"
   ]
  },
  {
   "cell_type": "markdown",
   "metadata": {},
   "source": [
    "## etc.\n",
    "\n",
    "위의 소개된 방법 외에 Smooth motion을 가정하는 다른 방법들 (constant motion, affine motion..) $0$에서 벗어난 부분에서 민감하게 반응하는 Square Error 대신 다른 함수를 써서 Error를 정의하는 방법들, $I_x, I_y, I_t$ 또는 $u_1 I_x + u_2 I_y + I_t$에 Gaussian noise를 적용하는 확률론적 방법들 등이 있다. 그 중 motion 가정을 바꾸는 방법과 [3]의 방법을 합쳐서 더 좋은 결과가 나오기도 한다.\n",
    "![](Fa_Result.png)"
   ]
  },
  {
   "cell_type": "markdown",
   "metadata": {},
   "source": [
    "## Reference\n",
    "\n",
    "[1] Combining Stereo Disparity and Optical Flow for Basic Scene Flow - Scientific Figure on ResearchGate. Available from: https://www.researchgate.net/figure/Comparison-of-Optical-Flow-and-Scene-Flow-For-four-stereo-images-of-a-traffic-scene-top_fig1_322500134 [accessed 15 Oct, 2019]\n",
    "\n",
    "[2] http://www.cs.toronto.edu/pub/jepson/teaching/vision/2503/opticalFlow.pdf\n",
    "\n",
    "[3] Farnebäck, Gunnar. \"Two-frame motion estimation based on polynomial expansion.\" In Scandinavian conference on Image analysis, pp. 363-370. Springer, Berlin, Heidelberg, 2003.\n",
    "\n",
    "[4] Baker, Simon, and Iain Matthews. \"Lucas-kanade 20 years on: A unifying framework.\" International journal of computer vision 56, no. 3 (2004): 221-255."
   ]
  },
  {
   "cell_type": "code",
   "execution_count": null,
   "metadata": {},
   "outputs": [],
   "source": []
  }
 ],
 "metadata": {
  "kernelspec": {
   "display_name": "Python 3",
   "language": "python",
   "name": "python3"
  },
  "language_info": {
   "codemirror_mode": {
    "name": "ipython",
    "version": 3
   },
   "file_extension": ".py",
   "mimetype": "text/x-python",
   "name": "python",
   "nbconvert_exporter": "python",
   "pygments_lexer": "ipython3",
   "version": "3.6.5"
  }
 },
 "nbformat": 4,
 "nbformat_minor": 2
}
